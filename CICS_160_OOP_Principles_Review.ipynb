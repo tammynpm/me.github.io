{
  "nbformat": 4,
  "nbformat_minor": 0,
  "metadata": {
    "colab": {
      "provenance": [],
      "include_colab_link": true
    },
    "kernelspec": {
      "name": "java",
      "display_name": "java"
    },
    "language_info": {
      "name": "java"
    }
  },
  "cells": [
    {
      "cell_type": "markdown",
      "metadata": {
        "id": "view-in-github",
        "colab_type": "text"
      },
      "source": [
        "<a href=\"https://colab.research.google.com/github/tammynpm/me.github.io/blob/main/CICS_160_OOP_Principles_Review.ipynb\" target=\"_parent\"><img src=\"https://colab.research.google.com/assets/colab-badge.svg\" alt=\"Open In Colab\"/></a>"
      ]
    },
    {
      "cell_type": "markdown",
      "source": [
        "#**Introduction**\n",
        "\n",
        "The purpose of this notebook is to review some of the most important Object-Oriented Programming (OOP) concepts, as well as practice working in the Java environment. These concepts are important to understand as they are likely appear in your future coding career, such as in technical interviews.\n",
        "\n",
        "We will first present definitions of the concepts to recap and reinforce your understanding.\n",
        "\n",
        "After each definition, we will also include code examples to illustrate these concepts. Note that these example blocks can be compiled and run out of the box by simply pressing the play button on the left hand side. Please feel free to modify and play around with the examples as desired.\n",
        "\n",
        "There will also be questions sprinkled throughout to test your knowledge, as well as a practice section at the end. Feel free to use any online resources to help you answer the questions, but to get the most out of them try to attempt the questions first by yourself.  \n",
        "\n",
        "We will first start with a review of Objects and Classes, and later move into covering the main principles of OOP."
      ],
      "metadata": {
        "id": "wXX4ry4ejfMB"
      }
    },
    {
      "cell_type": "markdown",
      "source": [
        "## **Initializing the Java Environment.**\n",
        "\n",
        "First, run the following script to install Java to this Colab environment!"
      ],
      "metadata": {
        "id": "FF3XitlakyZO"
      }
    },
    {
      "cell_type": "code",
      "source": [
        "%%bash\n",
        "#!/usr/bin/env bash\n",
        "\n",
        "echo \"Update environment...\"\n",
        "apt update -q  &> /dev/null\n",
        "\n",
        "echo \"Install Java...\"\n",
        "apt-get install -q openjdk-11-jdk-headless &> /dev/null\n",
        "\n",
        "echo \"Install Jupyter java kernel...\"\n",
        "curl -L https://github.com/SpencerPark/IJava/releases/download/v1.3.0/ijava-1.3.0.zip \\\n",
        " -o ijava-kernel.zip &> /dev/null\n",
        "\n",
        "unzip -q ijava-kernel.zip -d ijava-kernel \\\n",
        " && cd ijava-kernel \\\n",
        " && python3 install.py --sys-prefix &> /dev/null\n",
        "\n",
        "echo \"Install proxy for the java kernel\"\n",
        "# NOTE: required after changes to Google Colab defaults in Dec. 2022\n",
        "# See https://stackoverflow.com/questions/74674688/google-colab-notebook-using-ijava-stuck-at-connecting-after-installation-ref/74821762#74821762\n",
        "\n",
        "wget -qO- https://gist.github.com/SpencerPark/e2732061ad19c1afa4a33a58cb8f18a9/archive/b6cff2bf09b6832344e576ea1e4731f0fb3df10c.tar.gz | tar xvz --strip-components=1\n",
        "python install_ipc_proxy_kernel.py --kernel=java --implementation=ipc_proxy_kernel.py"
      ],
      "metadata": {
        "id": "QJ1C0qGeiu2z"
      },
      "execution_count": null,
      "outputs": []
    },
    {
      "cell_type": "markdown",
      "source": [
        "Then, go to the top right drop down and select 'Connect to a hosted runtime'. Ensure that the message at the bottom of the window says: \"Connected to java Google Compute Engine backend\"\n",
        "\n",
        "![link text](https://miro.medium.com/v2/resize:fit:1162/format:webp/1*V9exdUsBWH6NyNVh4xxf9w.png)\n"
      ],
      "metadata": {
        "id": "T6k9KUctjopu"
      }
    },
    {
      "cell_type": "markdown",
      "source": [
        "Finally, use the following code to test your installation."
      ],
      "metadata": {
        "id": "D8M4O6pLlO4s"
      }
    },
    {
      "cell_type": "code",
      "source": [
        "System.out.println(\"I love CICS 160!\");"
      ],
      "metadata": {
        "id": "1Rxz5P-Qi10M"
      },
      "execution_count": null,
      "outputs": []
    },
    {
      "cell_type": "markdown",
      "source": [
        "# **Review of Classes and Objects**\n",
        "\n",
        "An **object** is a custom data type that encloses variables and functions into a single type.\n",
        "\n",
        "A **class** is simply a template or blueprint for creating an object.\n",
        "\n",
        "Classes must have constructors: methods that define how to initialize the data inside an object when creating that object.\n",
        "\n",
        "A **method** is a function that's defined in a class. Methods, as opposed to functions, can act on (e.g. read, modify) data inside the class.\n",
        "\n",
        "For example, in Java, to get the length of an ArrayList, you must call the `.size() `method on an ArrayList object. Since it is defined as a method, we must use the following syntax: if `arr` is an ArrayList, we get its size by doing `arr.size()`.\n",
        "\n",
        "However, in Python, the corresponding way to get the length of a list, `len()`, is a function, not a method. Thus, if `arr` is a List, we can get its length by doing `len(arr)`.\n",
        "\n",
        "\n",
        "\n",
        "\n",
        "\n"
      ],
      "metadata": {
        "id": "K0zJQgEzlmYJ"
      }
    },
    {
      "cell_type": "markdown",
      "source": [
        "## Example\n",
        "\n",
        "The main purpose of objects and classes is to simplify and organize code. Consider a scenario where we wish store information of students into a list, given the student's name, grade, id, and year. The following example is one possible way to implement this without using classes/objects:"
      ],
      "metadata": {
        "id": "i1XgQb7puFJD"
      }
    },
    {
      "cell_type": "code",
      "source": [
        "// Run this code block to see the output. Feel free to modify this code as you wish.\n",
        "ArrayList<String> names = new ArrayList<String>();\n",
        "ArrayList<Integer> grades = new ArrayList<Integer>();\n",
        "ArrayList<Integer> years = new ArrayList<Integer>();\n",
        "\n",
        "public static void add_student(ArrayList<String> names, String name, ArrayList<Integer> grades, int grade, ArrayList<Integer> years, int year) {\n",
        "  names.add(name);\n",
        "  grades.add(grade);\n",
        "  years.add(year);\n",
        "}\n",
        "add_student(names, \"Eugene\", grades, 86, years, 4);\n",
        "add_student(names,  \"Harry\", grades, 94, years, 4);\n",
        "\n",
        "System.out.println(names);\n",
        "System.out.println(grades);\n",
        "System.out.println(years);"
      ],
      "metadata": {
        "id": "ExNes4U8mFDf"
      },
      "execution_count": null,
      "outputs": []
    },
    {
      "cell_type": "markdown",
      "source": [
        "Notice how our function signature is excessively long! Additionally, since we have to create separate arrays to store each individual piece of information, there is no easy way to associate names with their respective grades and years.\n",
        "\n",
        "Instead, we can create a class Student, which encapsulates all the necessary information into one data type."
      ],
      "metadata": {
        "id": "GKXHzab9mElr"
      }
    },
    {
      "cell_type": "code",
      "source": [
        "public class Student {\n",
        "  private String name;\n",
        "  private int grade;\n",
        "  private int year;\n",
        "\n",
        "  public Student(String name, int grade, int year) {\n",
        "    this.name = name;\n",
        "    this.grade = grade;\n",
        "    this.year = year;\n",
        "  }\n",
        "  public String getName() {\n",
        "    return name;\n",
        "  }\n",
        "  public int getGrade() {\n",
        "    return grade;\n",
        "  }\n",
        "  public int getYear() {\n",
        "    return year;\n",
        "  }\n",
        "}\n",
        "\n",
        "ArrayList<Student> students = new ArrayList<Student>();\n",
        "students.add(new Student(\"Eugene\", 86, 4));\n",
        "students.add(new Student(\"Harry\", 94, 4));\n",
        "\n",
        "for (Student s: students) {\n",
        "  System.out.println(s.getName());\n",
        "  System.out.println(s.getGrade());\n",
        "  System.out.println(s.getYear());\n",
        "}\n",
        "\n"
      ],
      "metadata": {
        "id": "csrbDbcouKBX"
      },
      "execution_count": null,
      "outputs": []
    },
    {
      "cell_type": "markdown",
      "source": [
        "We can see that using a class renders the add_student() method unnecessary, since we can create a Student ArrayList and employ the ArrayList's add() method. Even if we still needed the function, the signature would be much shorter, requiring only two parameters: the ArrayList of Students and the Student."
      ],
      "metadata": {
        "id": "rUyAthsavu29"
      }
    },
    {
      "cell_type": "markdown",
      "source": [
        "## Question 1\n",
        "\n",
        "In your own words, what is the difference between an object and a class? Write your answer below.\n",
        "\n"
      ],
      "metadata": {
        "id": "eHTguq9pyWtf"
      }
    },
    {
      "cell_type": "markdown",
      "source": [
        "ANSWER:"
      ],
      "metadata": {
        "id": "DfpvcZ2r1Apa"
      }
    },
    {
      "cell_type": "markdown",
      "source": [
        "## Question 2\n",
        "\n",
        "In your own words, what is the difference between a function and a method? Write your answer below."
      ],
      "metadata": {
        "id": "_XWkDcrB1CVq"
      }
    },
    {
      "cell_type": "markdown",
      "source": [
        "ANSWER:"
      ],
      "metadata": {
        "id": "PwITCC1x1LlE"
      }
    },
    {
      "cell_type": "markdown",
      "source": [
        "# **Principles of Object-Oriented Programming**\n",
        "\n",
        "Now that we have reviewed classes and objects, we can now cover the main principles of OOP: *Encapsulation, Abstraction, Inheritance*, and *Polymorphism*."
      ],
      "metadata": {
        "id": "B5V3U2_My8nf"
      }
    },
    {
      "cell_type": "markdown",
      "source": [
        "## *Encapsulation*\n",
        "\n",
        "Encapsulation involves bundling the data (attributes) and the methods (functions) that operate on the data into a single unit. The internal details, such as the data members and their implementation, are enclosed, or \"encapsulated\" -- hidden from the outside world. Only the public interface, consisting of methods that allow interation with the object, is accessible.\n"
      ],
      "metadata": {
        "id": "NureZykc1bO4"
      }
    },
    {
      "cell_type": "markdown",
      "source": [
        "### Example\n",
        "##### (source: https://www.geeksforgeeks.org/encapsulation-in-java/)\n",
        "\n"
      ],
      "metadata": {
        "id": "DXl7ccEH40lp"
      }
    },
    {
      "cell_type": "code",
      "source": [
        "class Person {\n",
        "    // Encapsulating the name and age\n",
        "    // only approachable and used using\n",
        "    // methods defined\n",
        "    private String name;\n",
        "    private int age;\n",
        "\n",
        "    public String getName() { return name; }\n",
        "\n",
        "    public void setName(String name) { this.name = name; }\n",
        "\n",
        "    public int getAge() { return age; }\n",
        "\n",
        "    public void setAge(int age) { this.age = age; }\n",
        "}\n",
        "\n",
        "// Driver Class\n",
        "// main function\n",
        "// person object created\n",
        "Person eugene = new Person();\n",
        "eugene.setName(\"Eugene\");\n",
        "eugene.setAge(20);\n",
        "\n",
        "Person harry = new Person();\n",
        "harry.setName(\"Harry\");\n",
        "harry.setAge(21);\n",
        "\n",
        "Person amit = new Person();\n",
        "amit.setName(\"Amit\");\n",
        "amit.setAge(22);\n",
        "\n",
        "// Using methods to get the values from the\n",
        "// variables\n",
        "System.out.println(\"Name: \" + eugene.getName());\n",
        "System.out.println(\"Age: \" + eugene.getAge());\n",
        "System.out.println(\"Name: \" + harry.getName());\n",
        "System.out.println(\"Age: \" + harry.getAge());\n",
        "System.out.println(\"Name: \" + amit.getName());\n",
        "System.out.println(\"Age: \" + amit.getAge());"
      ],
      "metadata": {
        "id": "7lPOlPq07GjU"
      },
      "execution_count": null,
      "outputs": []
    },
    {
      "cell_type": "markdown",
      "source": [
        "### Question 1\n",
        "\n",
        "Write a snippet of code that encapsulates the information of a library, including its name (String), number of books (int), and floors (int), into a single class.  "
      ],
      "metadata": {
        "id": "Q3zyrGMb2OQ9"
      }
    },
    {
      "cell_type": "code",
      "source": [
        "// Write code here"
      ],
      "metadata": {
        "id": "TjjM0e-74nbp"
      },
      "execution_count": null,
      "outputs": []
    },
    {
      "cell_type": "markdown",
      "source": [
        "## *Abstraction*\n",
        "\n",
        "Abstraction simplifies complex systems by modeling objects based its essential characteristics and ignoring unnecessary implementation details. It provides a way to create a blueprint for classes that captures the common properties and behaviors, allowing developers to focus on what an object does rather than how it achieves its functionality. In contrast to encapsulation, abstraction focuses on hiding implementation details, rather than information.\n",
        "\n"
      ],
      "metadata": {
        "id": "GXsk-FN-5WFO"
      }
    },
    {
      "cell_type": "markdown",
      "source": [
        "### Example\n",
        "An easy example of an abstraction that you've already seen is a List. A List can be an abstraction that implements methods such as `add()`, `size()`, etc. However, the implementation could be an ArrayList, LinkedList, or something else entirely; when abstracting the List, all the user cares about is that they can access the public methods they need.\n",
        "\n",
        "\n",
        "##### source: https://www.geeksforgeeks.org/abstraction-in-java-2/\n",
        "\n",
        "In Java, both Abstract and Interface are examples of abstractions, which allow the user to ensure their objects meet certain abstract characteristics (e.g. we could make an abstract class List that requires implementing `add()` and `size()`)"
      ],
      "metadata": {
        "id": "cUdZrnwK5bfG"
      }
    },
    {
      "cell_type": "code",
      "source": [
        "abstract class Animal {\n",
        "    private String name;\n",
        "\n",
        "    public Animal(String name) { this.name = name; }\n",
        "\n",
        "    public abstract void makeSound();\n",
        "\n",
        "    public String getName() { return name; }\n",
        "}\n",
        "\n",
        "// Abstracted class\n",
        "class Dog extends Animal {\n",
        "    public Dog(String name) { super(name); }\n",
        "\n",
        "    public void makeSound()\n",
        "    {\n",
        "        System.out.println(getName() + \" barks\");\n",
        "    }\n",
        "}\n",
        "\n",
        "// Abstracted class\n",
        "class Cat extends Animal {\n",
        "    public Cat(String name) { super(name); }\n",
        "\n",
        "    public void makeSound()\n",
        "    {\n",
        "        System.out.println(getName() + \" meows\");\n",
        "    }\n",
        "}\n",
        "\n",
        "Animal myDog = new Dog(\"Buddy\");\n",
        "Animal myCat = new Cat(\"Fluffy\");\n",
        "\n",
        "myDog.makeSound();\n",
        "myCat.makeSound();"
      ],
      "metadata": {
        "id": "seBLU-Ym7m5o"
      },
      "execution_count": null,
      "outputs": []
    },
    {
      "cell_type": "markdown",
      "source": [
        "### Question 1\n",
        "\n",
        "In your own words, describe the difference between Encapsulation and Abstraction."
      ],
      "metadata": {
        "id": "TUivcUAb5czp"
      }
    },
    {
      "cell_type": "markdown",
      "source": [
        "ANSWER:"
      ],
      "metadata": {
        "id": "1PXD0xN55nlq"
      }
    },
    {
      "cell_type": "markdown",
      "source": [
        "## *Inheritance*\n",
        "\n",
        "Inheritance is where a new class, known as a subclass or derived class, can inherit attriutes and behaviors from an existing class, known as superclass or base class. This promotes code reuse and the creation of a hierarchical structure."
      ],
      "metadata": {
        "id": "fHizuzQG5vzc"
      }
    },
    {
      "cell_type": "markdown",
      "source": [
        "### Example\n",
        "##### source: https://www.geeksforgeeks.org/inheritance-in-java/"
      ],
      "metadata": {
        "id": "u_EPS6iZ50r0"
      }
    },
    {
      "cell_type": "code",
      "source": [
        "import java.io.*;\n",
        "\n",
        "// Base or Super Class\n",
        "class Employee {\n",
        "    int salary = 60000;\n",
        "}\n",
        "\n",
        "// Inherited or Sub Class\n",
        "class Engineer extends Employee {\n",
        "    int benefits = 10000;\n",
        "}\n",
        "\n",
        "// Driver Class\n",
        "Engineer E1 = new Engineer();\n",
        "System.out.println(\"Salary : \" + E1.salary\n",
        "                    + \"\\nBenefits : \" + E1.benefits);"
      ],
      "metadata": {
        "id": "e6Betqq48NNc"
      },
      "execution_count": null,
      "outputs": []
    },
    {
      "cell_type": "markdown",
      "source": [
        "### Question\n",
        "\n",
        "In the code block below, write a class \"Manager\" that inherits from Employee. Feel free to modify the example code above if you wish."
      ],
      "metadata": {
        "id": "42mZN_Y652wO"
      }
    },
    {
      "cell_type": "code",
      "source": [
        "// Write code here"
      ],
      "metadata": {
        "id": "qeI5Vjhv8RQF"
      },
      "execution_count": null,
      "outputs": []
    },
    {
      "cell_type": "markdown",
      "source": [
        "## *Polymorphism*\n",
        "\n",
        "Polymorphism is a concept by which we can perform a single action in different ways. It is derived from two words: poly (many) and morphs (forms). In Java, polymorphism allows us to define one interface and have multiple implementations.\n",
        "\n",
        "There are two basic types of polymorphism:\n",
        "\n",
        "\n",
        "1.   **Compile-time Polymorphism (Static Polymorphism)**: This type of polymorphism is achieved by method *overloading*. Here, the method name is the same, but the parameters are different, either by number or type.\n",
        "2.   **Run-time Polymorphism (Dynamic Polymorphism)**: This type of polymorphism is achieved by method *overriding*, where the method signature (name and parameters) remains the same, but the method is redefined in the subclass.\n",
        "\n",
        "\n",
        "\n"
      ],
      "metadata": {
        "id": "bZdz-fyi55f3"
      }
    },
    {
      "cell_type": "markdown",
      "source": [
        "### Example\n",
        "\n",
        "\n",
        "**Compile-time Polymorphism**: In the following example, add is overloaded with two methods: one that adds two numbers and another that adds three numbers. This is compile-time polymorphism.\n",
        "\n"
      ],
      "metadata": {
        "id": "1cdmfNNY6BQM"
      }
    },
    {
      "cell_type": "code",
      "source": [
        "public class MathUtils {\n",
        "\n",
        "    // Method to add two integers\n",
        "    public int add(int a, int b) {\n",
        "        return a + b;\n",
        "    }\n",
        "\n",
        "    // Overloaded method to add three integers\n",
        "    public int add(int a, int b, int c) {\n",
        "        return a + b + c;\n",
        "    }\n",
        "}\n",
        "\n",
        "MathUtils utils = new MathUtils();\n",
        "System.out.println(utils.add(10, 20)); // Calls first add method\n",
        "System.out.println(utils.add(10, 20, 30)); // Calls overloaded add method"
      ],
      "metadata": {
        "id": "ohXQQrAhrPo5"
      },
      "execution_count": null,
      "outputs": []
    },
    {
      "cell_type": "markdown",
      "source": [
        "**Run-time Polymorphism:** In the following example, \"Dog\" overrides the \"sound\" method of its superclass \"Animal\". When we call the \"sound\" method on an \"Animal\" object that actually contains a \"Dog\", it calls the Dog's \"sound\" method, not the one in \"Animal\". This is an example of run-time polymorphism."
      ],
      "metadata": {
        "id": "wF5unS87sV5T"
      }
    },
    {
      "cell_type": "code",
      "source": [
        "class Animal {\n",
        "    public void sound() {\n",
        "        System.out.println(\"Animal makes a sound\");\n",
        "    }\n",
        "}\n",
        "\n",
        "class Dog extends Animal {\n",
        "    @Override\n",
        "    public void sound() {\n",
        "        System.out.println(\"Dog barks\");\n",
        "    }\n",
        "}\n",
        "\n",
        "Animal myAnimal = new Dog();\n",
        "myAnimal.sound(); // Outputs: Dog barks"
      ],
      "metadata": {
        "id": "yoY5FIgfsj-F"
      },
      "execution_count": null,
      "outputs": []
    },
    {
      "cell_type": "markdown",
      "source": [
        "### Question 1\n",
        "In your own words, what are the differences between method overloading and overriding?"
      ],
      "metadata": {
        "id": "WlwOMXLx6Cyi"
      }
    },
    {
      "cell_type": "markdown",
      "source": [
        "ANSWER:"
      ],
      "metadata": {
        "id": "A9FyNimMuUqW"
      }
    },
    {
      "cell_type": "markdown",
      "source": [
        "### Question 2\n",
        "True or False: Inheritance enables Polymorphism. Explain your answer."
      ],
      "metadata": {
        "id": "qCBzNVcyLPcv"
      }
    },
    {
      "cell_type": "markdown",
      "source": [
        "ANSWER:"
      ],
      "metadata": {
        "id": "u5-NNRV1LWyG"
      }
    },
    {
      "cell_type": "markdown",
      "source": [
        "# **Practice!**\n",
        "\n",
        "In this section, we will present code snippets and ask you to identify which principle(s) it represents.\n",
        "\n"
      ],
      "metadata": {
        "id": "8v4MGGGN3enj"
      }
    },
    {
      "cell_type": "markdown",
      "source": [
        "### Practice Question 1:\n",
        "\n",
        "Examine this Java code below. Identify the OOP principle illustrated here."
      ],
      "metadata": {
        "id": "mm3zfzgGT9Vm"
      }
    },
    {
      "cell_type": "code",
      "source": [
        "public class Car {\n",
        "    private String model;\n",
        "    private int year;\n",
        "\n",
        "    public String getModel() {\n",
        "        return model;\n",
        "    }\n",
        "\n",
        "    public void setModel(String model) {\n",
        "        this.model = model;\n",
        "    }\n",
        "\n",
        "    public int getYear() {\n",
        "        return year;\n",
        "    }\n",
        "\n",
        "    public void setYear(int year) {\n",
        "        this.year = year;\n",
        "    }\n",
        "}"
      ],
      "metadata": {
        "id": "bbC8ActyT7vO"
      },
      "execution_count": null,
      "outputs": []
    },
    {
      "cell_type": "markdown",
      "source": [
        "Answer:"
      ],
      "metadata": {
        "id": "B9wK4zGglnew"
      }
    },
    {
      "cell_type": "markdown",
      "source": [
        "### Practice Question 2:\n",
        "Look at the following Java code. What OOP concept does this example illustrate?"
      ],
      "metadata": {
        "id": "_TtVqiSolsCr"
      }
    },
    {
      "cell_type": "code",
      "source": [
        "public interface Flyable {\n",
        "    void fly();\n",
        "}\n",
        "\n",
        "public class Bird implements Flyable {\n",
        "    public void fly() {\n",
        "        System.out.println(\"Bird is flying\");\n",
        "    }\n",
        "}\n",
        "\n",
        "public class Airplane implements Flyable {\n",
        "    public void fly() {\n",
        "        System.out.println(\"Airplane is flying\");\n",
        "    }\n",
        "}"
      ],
      "metadata": {
        "id": "HjKrnZsbmLuB"
      },
      "execution_count": null,
      "outputs": []
    },
    {
      "cell_type": "markdown",
      "source": [
        "Answer:"
      ],
      "metadata": {
        "id": "BOT9kDUUmQwC"
      }
    },
    {
      "cell_type": "markdown",
      "source": [
        "### Practice Question 3:\n",
        "Consider this Java class definition. What OOP concept does the Vehicle class illustrate, and how is it being used in the constructor?"
      ],
      "metadata": {
        "id": "xMGl0zwomXLN"
      }
    },
    {
      "cell_type": "code",
      "source": [
        "public class Vehicle {\n",
        "    private int wheels;\n",
        "    private String color;\n",
        "\n",
        "    public Vehicle(int wheels, String color) {\n",
        "        this.wheels = wheels;\n",
        "        this.color = color;\n",
        "    }\n",
        "\n",
        "    // Getter and Setter methods\n",
        "}"
      ],
      "metadata": {
        "id": "mQS25FmJmxlx"
      },
      "execution_count": null,
      "outputs": []
    },
    {
      "cell_type": "markdown",
      "source": [
        "Answer:"
      ],
      "metadata": {
        "id": "rk8SoAT5m0l9"
      }
    },
    {
      "cell_type": "markdown",
      "source": [
        "### Practice Question 4:\n",
        "Analyze the following Java code. Identify the OOP principle demonstrated by the \"**Shape**\" and \"**Circle**\" classes."
      ],
      "metadata": {
        "id": "0ugoVMEIm-WH"
      }
    },
    {
      "cell_type": "code",
      "source": [
        "public abstract class Shape {\n",
        "    public abstract double area();\n",
        "    public abstract double perimeter();\n",
        "}\n",
        "\n",
        "public class Circle extends Shape {\n",
        "    private double radius;\n",
        "\n",
        "    public Circle(double radius) {\n",
        "        this.radius = radius;\n",
        "    }\n",
        "\n",
        "    public double area() {\n",
        "        return Math.PI * radius * radius;\n",
        "    }\n",
        "\n",
        "    public double perimeter() {\n",
        "        return 2 * Math.PI * radius;\n",
        "    }\n",
        "}"
      ],
      "metadata": {
        "id": "sR2XF9DfnfjJ"
      },
      "execution_count": null,
      "outputs": []
    },
    {
      "cell_type": "markdown",
      "source": [
        "Answer:"
      ],
      "metadata": {
        "id": "lqo5WRJCnjpr"
      }
    },
    {
      "cell_type": "markdown",
      "source": [
        "### Practice Question 5:\n",
        "Examine this code snippet. Identify and explain the instances of method overloading and method overriding in this code."
      ],
      "metadata": {
        "id": "g73GHcEZnvft"
      }
    },
    {
      "cell_type": "code",
      "source": [
        "class Printer {\n",
        "    void print() {\n",
        "        System.out.println(\"Printer is ready\");\n",
        "    }\n",
        "\n",
        "    void print(String document) {\n",
        "        System.out.println(\"Printing: \" + document);\n",
        "    }\n",
        "}\n",
        "\n",
        "class LaserPrinter extends Printer {\n",
        "    @Override\n",
        "    void print() {\n",
        "        System.out.println(\"Laser Printer is ready\");\n",
        "    }\n",
        "\n",
        "    void print(String document, int copies) {\n",
        "        for (int i = 0; i < copies; i++) {\n",
        "            System.out.println(\"Printing copy \" + (i+1) + \" of \" + document);\n",
        "        }\n",
        "    }\n",
        "}\n",
        "\n",
        "public class Main {\n",
        "    public static void main(String[] args) {\n",
        "        Printer myPrinter = new LaserPrinter();\n",
        "        myPrinter.print();\n",
        "        myPrinter.print(\"ProjectReport.pdf\");\n",
        "    }\n",
        "}"
      ],
      "metadata": {
        "id": "9yVvJWoAn7eO"
      },
      "execution_count": null,
      "outputs": []
    },
    {
      "cell_type": "markdown",
      "source": [
        "Answer:"
      ],
      "metadata": {
        "id": "RnjWPCu-n905"
      }
    },
    {
      "cell_type": "markdown",
      "source": [
        "# **Closing**\n",
        "\n",
        "Thank you for all your hard work! We hoped this helped in some way. Please fill out the following Google Form to give us feedback on how we can improve: https://forms.gle/m7MFWHMV8uoCaSjc7"
      ],
      "metadata": {
        "id": "ycac2IzcMEIC"
      }
    }
  ]
}